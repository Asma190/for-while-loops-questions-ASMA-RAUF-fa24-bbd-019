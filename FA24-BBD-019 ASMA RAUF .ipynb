{
 "cells": [
  {
   "cell_type": "code",
   "execution_count": 5,
   "id": "c5d5a4b8-4795-4b63-80b7-c5522ea30fa6",
   "metadata": {},
   "outputs": [
    {
     "name": "stdout",
     "output_type": "stream",
     "text": [
      "1\n",
      "2\n",
      "3\n",
      "4\n",
      "5\n",
      "6\n",
      "7\n",
      "8\n",
      "9\n",
      "10\n"
     ]
    }
   ],
   "source": [
    "#QUESTION NUMBER 1\n",
    "i= 1\n",
    "while i <=10: \n",
    "    print(i)\n",
    "    i = i + 1 "
   ]
  },
  {
   "cell_type": "code",
   "execution_count": 7,
   "id": "887d4867-658c-40df-a4af-241df592bdee",
   "metadata": {},
   "outputs": [
    {
     "name": "stdout",
     "output_type": "stream",
     "text": [
      "2\n",
      "4\n",
      "6\n",
      "8\n",
      "10\n",
      "12\n",
      "14\n",
      "16\n",
      "18\n",
      "20\n"
     ]
    }
   ],
   "source": [
    "#QUESTION NUMBER 2\n",
    "a = 1\n",
    "while a<=20:\n",
    "    if a % 2 == 0:\n",
    "        print(a)\n",
    "    a = a + 1   "
   ]
  },
  {
   "cell_type": "code",
   "execution_count": 9,
   "id": "d16ef2ea-a730-4b13-9efd-8ae396d300ce",
   "metadata": {},
   "outputs": [
    {
     "name": "stdout",
     "output_type": "stream",
     "text": [
      "The sum of the first 10 natural numbers is: 55\n"
     ]
    }
   ],
   "source": [
    "#QUESTION NUMBER 3 \n",
    "a = 1\n",
    "sum = 0\n",
    "\n",
    "while a <= 10:\n",
    "    sum += a\n",
    "    a += 1\n",
    "\n",
    "print(\"The sum of the first 10 natural numbers is:\", sum)\n",
    "    "
   ]
  },
  {
   "cell_type": "code",
   "execution_count": 11,
   "id": "d3b7f3fa-83c2-48f7-bb51-23af899d7d64",
   "metadata": {},
   "outputs": [
    {
     "name": "stdin",
     "output_type": "stream",
     "text": [
      "Enter a number or enter negative number to exit:  33\n",
      "Enter a number or enter negative number to exit:  -77\n"
     ]
    },
    {
     "name": "stdout",
     "output_type": "stream",
     "text": [
      "The total sum of the numbers entered  33\n"
     ]
    }
   ],
   "source": [
    "#QUESTION NUMBER 4 \n",
    "sum = 0\n",
    "while True:\n",
    "    number=int(input(\"Enter a number or enter negative number to exit: \"))\n",
    "    if number < 0:\n",
    "        break\n",
    "    sum+=number\n",
    "print(\"The total sum of the numbers entered \", sum)"
   ]
  },
  {
   "cell_type": "code",
   "execution_count": 1,
   "id": "7e3baed4-f54e-4666-90ac-8f8082e0c765",
   "metadata": {},
   "outputs": [
    {
     "name": "stdout",
     "output_type": "stream",
     "text": [
      "Lets play the guessing game\n"
     ]
    },
    {
     "name": "stdin",
     "output_type": "stream",
     "text": [
      "Guess num between 1 and 100: 55\n"
     ]
    },
    {
     "name": "stdout",
     "output_type": "stream",
     "text": [
      "Lower than correct guess\n"
     ]
    },
    {
     "name": "stdin",
     "output_type": "stream",
     "text": [
      "Guess num between 1 and 100: 89\n"
     ]
    },
    {
     "name": "stdout",
     "output_type": "stream",
     "text": [
      "Higher than correct guess\n"
     ]
    },
    {
     "name": "stdin",
     "output_type": "stream",
     "text": [
      "Guess num between 1 and 100: 65\n"
     ]
    },
    {
     "name": "stdout",
     "output_type": "stream",
     "text": [
      "You have guessed right\n"
     ]
    }
   ],
   "source": [
    "#QUESTION NUMBER 5 \n",
    "print(\"Lets play the guessing game\")\n",
    "number= 65\n",
    "guess=0\n",
    "while True:\n",
    "    guess=int(input('Guess num between 1 and 100:'))\n",
    "    if guess==number:\n",
    "        print('You have guessed right')\n",
    "        break\n",
    "    elif guess<number:\n",
    "        print('Lower than correct guess')\n",
    "    else:\n",
    "        print('Higher than correct guess')"
   ]
  },
  {
   "cell_type": "code",
   "execution_count": 9,
   "id": "844a5424-f4e8-4152-a68b-d36aa7e8a758",
   "metadata": {},
   "outputs": [
    {
     "name": "stdin",
     "output_type": "stream",
     "text": [
      "Enter a positive integer: 4\n"
     ]
    },
    {
     "name": "stdout",
     "output_type": "stream",
     "text": [
      "Factorial: 24\n"
     ]
    }
   ],
   "source": [
    "#QUESTION NUMBER 6 \n",
    "number=int(input('Enter a positive integer:'))\n",
    "factorial= 1\n",
    "while number>0:\n",
    "    factorial*=number\n",
    "    number-=1\n",
    "print('Factorial:', factorial)"
   ]
  },
  {
   "cell_type": "code",
   "execution_count": 11,
   "id": "7b8e76c5-c643-4942-a36c-500ca770a714",
   "metadata": {},
   "outputs": [
    {
     "name": "stdin",
     "output_type": "stream",
     "text": [
      "enter a number or ('done' to finish): 44\n",
      "enter a number or ('done' to finish): 12\n",
      "enter a number or ('done' to finish): done\n"
     ]
    },
    {
     "name": "stdout",
     "output_type": "stream",
     "text": [
      "average: 28.0\n"
     ]
    }
   ],
   "source": [
    "#QUESTION NUMBER 7 \n",
    "total = 0\n",
    "count = 0\n",
    "while True:\n",
    "    number = input(\"enter a number or ('done' to finish):\")\n",
    "    if number.lower() == 'done':\n",
    "        break \n",
    "    else:\n",
    "        total += float(number)\n",
    "        count += 1\n",
    "print(\"average:\",total/count)      "
   ]
  },
  {
   "cell_type": "code",
   "execution_count": 13,
   "id": "777e8f85-0b7e-4eba-b7d3-e854fd0a81bd",
   "metadata": {},
   "outputs": [
    {
     "name": "stdin",
     "output_type": "stream",
     "text": [
      "enter a num 15\n"
     ]
    },
    {
     "name": "stdout",
     "output_type": "stream",
     "text": [
      "0 1 1 2 3 5 8 13 "
     ]
    }
   ],
   "source": [
    "#QUESTION NUMBER 8\n",
    "i = int(input(\"enter a num\"))\n",
    "a = 0\n",
    "b = 1\n",
    "while a <= i:\n",
    "    print(a, end=\" \")\n",
    "    a, b = b , a + b \n",
    "        "
   ]
  },
  {
   "cell_type": "code",
   "execution_count": null,
   "id": "ba13e7b4-7941-41b9-aa84-83ca54a0dc65",
   "metadata": {},
   "outputs": [],
   "source": []
  }
 ],
 "metadata": {
  "kernelspec": {
   "display_name": "Python 3 (ipykernel)",
   "language": "python",
   "name": "python3"
  },
  "language_info": {
   "codemirror_mode": {
    "name": "ipython",
    "version": 3
   },
   "file_extension": ".py",
   "mimetype": "text/x-python",
   "name": "python",
   "nbconvert_exporter": "python",
   "pygments_lexer": "ipython3",
   "version": "3.12.4"
  }
 },
 "nbformat": 4,
 "nbformat_minor": 5
}
